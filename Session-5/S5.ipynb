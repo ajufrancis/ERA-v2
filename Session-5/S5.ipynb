# %load_ext autoreload
# %autoreload 2


# Imports the necessary modules and functions from model.py and utils.py
from model import Net
from utils import train, test, load_data, train_transforms, test_transforms
import torch
from torchsummary import summary


# Set device
device = torch.device("cuda" if torch.cuda.is_available() else "cpu")
print("Using device:", device)

# Load data
train_loader, test_loader = load_data(batch_size=512)  # You can adjust the batch size if necessary

# Initialize the network and optimizer
model = Net().to(device)
optimizer = torch.optim.SGD(model.parameters(), lr=0.01, momentum=0.9)  # Adjust hyperparameters as needed
scheduler = torch.optim.lr_scheduler.StepLR(optimizer, step_size=15, gamma=0.1, verbose=True)
criterion = torch.nn.CrossEntropyLoss()

# Training and testing
num_epochs = 20  # You can adjust the number of epochs
for epoch in range(1, num_epochs + 1):
    print(f'Epoch {epoch}/{num_epochs}')
    train_loss, train_accuracy = train(model, device, train_loader, optimizer, criterion)
    test_loss, test_accuracy = test(model, device, test_loader, criterion)
    scheduler.step()

    print(f'Epoch {epoch} Summary: Train Loss: {train_loss:.4f}, Train Accuracy: {train_accuracy:.2f}%, '
          f'Test Loss: {test_loss:.4f}, Test Accuracy: {test_accuracy:.2f}%\n')

# Optional: Add your plotting or additional analysis here

# Print model summary (optional)
print("Model Summary:")
summary(model, input_size=(1, 28, 28))
